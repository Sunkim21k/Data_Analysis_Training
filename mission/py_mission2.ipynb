{
  "nbformat": 4,
  "nbformat_minor": 0,
  "metadata": {
    "colab": {
      "provenance": [],
      "include_colab_link": true
    },
    "kernelspec": {
      "name": "python3",
      "display_name": "Python 3"
    },
    "language_info": {
      "name": "python"
    }
  },
  "cells": [
    {
      "cell_type": "markdown",
      "metadata": {
        "id": "view-in-github",
        "colab_type": "text"
      },
      "source": [
        "<a href=\"https://colab.research.google.com/github/Sunkim21k/Data_Analysis_Training/blob/main/mission/py_mission2.ipynb\" target=\"_parent\"><img src=\"https://colab.research.google.com/assets/colab-badge.svg\" alt=\"Open In Colab\"/></a>"
      ]
    },
    {
      "cell_type": "markdown",
      "source": [
        "## 기본"
      ],
      "metadata": {
        "id": "sF-xxLqF88bd"
      }
    },
    {
      "cell_type": "markdown",
      "source": [
        "### 문제1. 시간 추적 클래스(TimeTracker)"
      ],
      "metadata": {
        "id": "TPfuBmEf891t"
      }
    },
    {
      "cell_type": "markdown",
      "source": [
        "- 실습 설명\n",
        "\n",
        "  시간을 관리하고 추적하는 `TimeTracker` 클래스를 구현하는 프로젝트를 시작합니다. 시간 관리 기능은 특히 프로젝트 작업, 운동, 공부 시간 등 다양한 활동의 지속 시간을 측정하는 데 유용합니다.\n",
        "\n",
        "  `TimeTracker` 클래스는 다음 기능을 제공해야 합니다:\n",
        "\n",
        "  1. **시작 시간 설정**: 사용자가 활동을 시작할 때의 시간을 기록합니다.\n",
        "  2. **종료 시간 설정**: 사용자가 활동을 종료할 때의 시간을 기록합니다.\n",
        "  3. **경과 시간 계산**: 활동의 시작과 종료 사이의 시간 차이를 계산합니다.\n",
        "\n",
        "  이 클래스의 인스턴스를 사용하여 각각의 활동에 대해 별도의 시간 추적을 할 수 있어야 합니다.\n",
        "\n",
        "- 구현해야 할 메소드\n",
        "\n",
        "  - `start`: 현재 시간을 시작 시간으로 설정합니다.\n",
        "  - `stop`: 현재 시간을 종료 시간으로 설정하고 경과 시간을 계산합니다.\n",
        "  - `get_elapsed_time`: 마지막으로 기록된 시작 시간과 종료 시간 사이의 경과 시간을 분 단위로 반환합니다.\n",
        "\n",
        "- 실습 결과 예시\n",
        "\n",
        "  다음과 같은 코드를 실행했을 때의 출력 예시입니다:\n",
        "\n",
        "  ```python\n",
        "  study_session = TimeTracker()\n",
        "  study_session.start()\n",
        "  # 1시간 30분 공부\n",
        "  study_session.stop()\n",
        "\n",
        "  print(\"공부한 시간:\", study_session.get_elapsed_time(), \"분\")\n",
        "  ```\n",
        "\n",
        "  예상 출력:\n",
        "\n",
        "  ```\n",
        "  공부한 시간: 90 분\n",
        "  ```\n",
        "\n",
        "- 요구 사항\n",
        "\n",
        "  1. 실제 시간을 추적하려면 Python의 `datetime` 모듈을 사용하여 현재 시간을 `datetime.now()`로 가져올 수 있습니다.\n",
        "  2. 경과 시간은 분 단위로 반환해야 합니다."
      ],
      "metadata": {
        "id": "qrbcBauX9QPG"
      }
    },
    {
      "cell_type": "code",
      "source": [
        "from datetime import datetime\n",
        "\n",
        "class TimeTracker:\n",
        "    def __init__(self):\n",
        "        self.start_time = None\n",
        "        self.end_time = None\n",
        "        self.elapsed_time = 0\n",
        "\n",
        "    def start(self):\n",
        "        self.start_time = datetime.now()\n",
        "        print(f\"시작 시간: {self.start_time}\")\n",
        "\n",
        "    def stop(self):\n",
        "        if self.start_time == None:\n",
        "            print(\"아직 시작 시간이 설정되지 않았습니다. 먼저 start 메소드를 호출하세요.\")\n",
        "        else:\n",
        "            self.end_time = datetime.now()\n",
        "            self.elapsed_time = (self.end_time - self.start_time).seconds / 60\n",
        "            print(f\"종료 시간: {self.end_time}\")\n",
        "\n",
        "    def get_elapsed_time(self):\n",
        "        return round(self.elapsed_time, 2)\n",
        "\n",
        "\n",
        "\n",
        "# 사용 예시\n",
        "if __name__ == \"__main__\":\n",
        "    tracker = TimeTracker()\n",
        "    tracker.start()\n",
        "\n",
        "    # # 여기서 실제로 시간을 지연시키려면 time.sleep()을 사용할 수 있지만, 코드 실행을 바로 확인하기 위해 주석 처리함\n",
        "    # import time\n",
        "    # time.sleep(61)  # 61초 대기\n",
        "\n",
        "    # tracker.stop()\n",
        "    # print(f\"공부한 시간: {tracker.get_elapsed_time()} 분\")\n"
      ],
      "metadata": {
        "colab": {
          "base_uri": "https://localhost:8080/"
        },
        "id": "HsGSTXIR9mT4",
        "outputId": "49c0a766-8bfb-4720-ba7c-30d7c595a325"
      },
      "execution_count": null,
      "outputs": [
        {
          "output_type": "stream",
          "name": "stdout",
          "text": [
            "시작 시간: 2024-07-29 09:48:01.383917\n"
          ]
        }
      ]
    },
    {
      "cell_type": "code",
      "source": [
        "tracker.stop()\n",
        "print(f\"공부한 시간: {tracker.get_elapsed_time()} 분\")"
      ],
      "metadata": {
        "colab": {
          "base_uri": "https://localhost:8080/"
        },
        "id": "6NEV9zSd8Ty_",
        "outputId": "128f391b-4128-4d09-9cfd-81360d6951cf"
      },
      "execution_count": null,
      "outputs": [
        {
          "output_type": "stream",
          "name": "stdout",
          "text": [
            "종료 시간: 2024-07-29 09:48:15.359819\n",
            "공부한 시간: 0.22 분\n"
          ]
        }
      ]
    },
    {
      "cell_type": "markdown",
      "source": [
        "### 문제2 :  주소록 클래스"
      ],
      "metadata": {
        "id": "zDpovNgZ-Dc_"
      }
    },
    {
      "cell_type": "markdown",
      "source": [
        "\n",
        "\n",
        "- 실습 설명\n",
        "\n",
        "  주소록 관리 시스템을 위한 `Contact` 클래스를 구현하는 프로젝트를 시작합니다. 이 클래스는 개인의 기본 연락처 정보를 저장하고 관리하는 데 사용됩니다.\n",
        "\n",
        "  `Contact` 클래스는 다음 정보를 저장할 수 있어야 합니다:\n",
        "\n",
        "  - 이름(name)\n",
        "  - 전화번호(phone number)\n",
        "  - 이메일 주소(email address)\n",
        "\n",
        "  클래스는 이 정보를 효율적으로 관리할 수 있는 기능을 제공해야 합니다.\n",
        "\n",
        "\n",
        "- 구현해야 할 메소드\n",
        "\n",
        "  - `__init__`: 객체를 생성할 때 이름, 전화번호, 이메일 주소를 초기화합니다.\n",
        "  - `__str__`: 연락처의 정보를 예쁘게 출력할 수 있는 문자열로 반환합니다. 이 문자열은 연락처 정보를 한눈에 알아볼 수 있도록 포맷팅됩니다.\n",
        "\n",
        "\n",
        "                                       \n",
        "\n",
        "- 실습 결과 예시\n",
        "\n",
        "  다음과 같은 코드를 실행했을 때의 출력 예시입니다:\n",
        "\n",
        "  ```python\n",
        "  friend = Contact(\"Jane Doe\", \"010-1234-5678\", \"jane@example.com\")\n",
        "  print(friend)\n",
        "  ```\n",
        "\n",
        "  예상 출력:\n",
        "\n",
        "  ```\n",
        "  이름: Jane Doe\n",
        "  전화번호: 010-1234-5678\n",
        "  이메일: jane@example.com\n",
        "  ```\n",
        "\n",
        "- 요구 사항\n",
        "\n",
        "  - 모든 입력 데이터는 문자열로 처리해야 합니다.\n",
        "  - 연락처 정보를 적절하게 포맷팅하여 출력할 수 있어야 합니다.\n",
        "\n"
      ],
      "metadata": {
        "id": "zc3Y7tO7-Mx6"
      }
    },
    {
      "cell_type": "code",
      "execution_count": null,
      "metadata": {
        "colab": {
          "base_uri": "https://localhost:8080/"
        },
        "id": "iEk2xBtL6Tb5",
        "outputId": "3030046f-7b61-4116-f137-f0bc8ddcdb6c"
      },
      "outputs": [
        {
          "output_type": "stream",
          "name": "stdout",
          "text": [
            "이름: Jane Doe\n",
            "전화번호: 010-1234-5678\n",
            "이메일: jane@example.com\n"
          ]
        }
      ],
      "source": [
        "class Contact:\n",
        "    def __init__(self, name, phone_number, email_address):\n",
        "        if type(name) != str or type(phone_number) != str or type(email_address) != str:\n",
        "            raise ValueError(\"문자를 입력해주세요\")\n",
        "\n",
        "        self.name = name\n",
        "        self.phone_number = phone_number\n",
        "        self.email_address = email_address\n",
        "\n",
        "    def __str__(self):\n",
        "        return f\"이름: {self.name}\\n전화번호: {self.phone_number}\\n이메일: {self.email_address}\"\n",
        "\n",
        "\n",
        "\n",
        "\n",
        "# 사용 예시\n",
        "if __name__ == \"__main__\":\n",
        "    # 연락처 정보 생성\n",
        "    friend = Contact(\"Jane Doe\", \"010-1234-5678\", \"jane@example.com\")\n",
        "    # 연락처 정보 출력\n",
        "    print(friend)\n"
      ]
    },
    {
      "cell_type": "markdown",
      "source": [
        "## 응용"
      ],
      "metadata": {
        "id": "ryJvaY-s_LDc"
      }
    },
    {
      "cell_type": "markdown",
      "source": [
        "### 문제3 : 투표 시스템 클래스"
      ],
      "metadata": {
        "id": "r79rkoe0_hAe"
      }
    },
    {
      "cell_type": "markdown",
      "source": [
        "- 실습 설명\n",
        "\n",
        "  간단한 투표 시스템을 위한 `VoteSystem` 클래스를 구현하는 프로젝트를 시작합니다. 이 시스템은 후보자 목록을 관리하고, 각 후보자에 대한 투표를 집계하는 기능을 제공합니다.\n",
        "\n",
        "  `VoteSystem` 클래스는 다음 기능을 제공해야 합니다:\n",
        "\n",
        "  - 후보자 등록\n",
        "  - 투표 기능\n",
        "  - 투표 결과 조회\n",
        "\n",
        "- 구현해야 할 메소드\n",
        "\n",
        "  - `add_candidate`: 후보자를 등록합니다. 후보자의 이름을 입력받아 목록에 추가합니다.\n",
        "  - `vote`: 특정 후보자에게 투표합니다. 투표하려는 후보자의 이름을 입력받습니다.\n",
        "  - `get_results`: 각 후보자의 투표 수를 출력합니다.\n",
        "\n",
        "- 실습 결과 예시\n",
        "\n",
        "  다음과 같은 코드를 실행했을 때의 출력 예시입니다:\n",
        "\n",
        "  ```python\n",
        "  voting_system = VoteSystem()\n",
        "  voting_system.add_candidate(\"Alice\")\n",
        "  voting_system.add_candidate(\"Bob\")\n",
        "  voting_system.add_candidate(\"Charlie\")\n",
        "\n",
        "  voting_system.vote(\"Alice\")\n",
        "  voting_system.vote(\"Alice\")\n",
        "  voting_system.vote(\"Bob\")\n",
        "\n",
        "  voting_system.get_results()\n",
        "  ```\n",
        "\n",
        "  예상 출력:\n",
        "\n",
        "  ```\n",
        "  Alice: 2 votes\n",
        "  Bob: 1 vote\n",
        "  Charlie: 0 votes\n",
        "  ```\n",
        "\n",
        "- 요구 사항\n",
        "\n",
        "  - 후보자는 중복 등록될 수 없습니다.\n",
        "  - 등록되지 않은 후보자에게 투표할 수 없습니다.\n",
        "  - 각 후보자의 이름과 투표 수는 사전(dictionary)을 사용하여 관리합니다.\n",
        "\n"
      ],
      "metadata": {
        "id": "6kdZ03VJ_uV9"
      }
    },
    {
      "cell_type": "code",
      "source": [
        "class VoteSystem:\n",
        "    def __init__(self):\n",
        "        self.candidate_dict = {}\n",
        "\n",
        "    def add_candidate(self, candidate):\n",
        "        if not isinstance(candidate, str):\n",
        "            raise ValueError(\"문자열을 입력해주세요\")\n",
        "\n",
        "        if candidate not in self.candidate_dict:\n",
        "            self.candidate_dict[candidate] = 0\n",
        "            print(f\"{candidate} 후보가 성공적으로 등록되었습니다.\")\n",
        "        else:\n",
        "            print(\"이미 등록된 후보자 입니다.\")\n",
        "\n",
        "    def vote(self, name):\n",
        "        if not isinstance(name, str):\n",
        "            raise ValueError(\"문자열을 입력해주세요\")\n",
        "\n",
        "        if name in self.candidate_dict:\n",
        "            self.candidate_dict[name] += 1\n",
        "            print(f\"{name}에게 투표하였습니다.\")\n",
        "        else:\n",
        "            print(\"등록되지 않은 후보자 입니다.\")\n",
        "\n",
        "\n",
        "    def get_results(self):\n",
        "        print(\"투표 결과: \")\n",
        "        for candidate, vote in self.candidate_dict.items():\n",
        "            if vote > 1:\n",
        "                print(f\"{candidate}: {vote} votes\")\n",
        "            else:\n",
        "                print(f\"{candidate}: {vote} vote\")\n",
        "\n",
        "\n",
        "# 사용 예시\n",
        "if __name__ == \"__main__\":\n",
        "    voting_system = VoteSystem()\n",
        "    voting_system.add_candidate(\"Alice\")\n",
        "    voting_system.add_candidate(\"Bob\")\n",
        "    voting_system.add_candidate(\"Charlie\")\n",
        "\n",
        "    voting_system.vote(\"Alice\")\n",
        "    voting_system.vote(\"Alice\")\n",
        "    voting_system.vote(\"Bob\")\n",
        "\n",
        "    voting_system.get_results()\n"
      ],
      "metadata": {
        "colab": {
          "base_uri": "https://localhost:8080/"
        },
        "id": "aX2kJnZ2-cu5",
        "outputId": "1689947d-908b-49f5-aa17-858efeb2f75b"
      },
      "execution_count": null,
      "outputs": [
        {
          "output_type": "stream",
          "name": "stdout",
          "text": [
            "Alice 후보가 성공적으로 등록되었습니다.\n",
            "Bob 후보가 성공적으로 등록되었습니다.\n",
            "Charlie 후보가 성공적으로 등록되었습니다.\n",
            "Alice에게 투표하였습니다.\n",
            "Alice에게 투표하였습니다.\n",
            "Bob에게 투표하였습니다.\n",
            "투표 결과: \n",
            "Alice: 2 votes\n",
            "Bob: 1 vote\n",
            "Charlie: 0 vote\n"
          ]
        }
      ]
    },
    {
      "cell_type": "markdown",
      "source": [
        "### 문제4 : 은행 계좌 클래스"
      ],
      "metadata": {
        "id": "dZ-V_2FKATw5"
      }
    },
    {
      "cell_type": "markdown",
      "source": [
        "\n",
        "- 실습 설명\n",
        "\n",
        "  간단한 은행 계좌 관리 시스템을 위한 `BankAccount` 클래스를 구현하는 프로젝트를 시작합니다. 이 클래스는 개인의 은행 계좌 정보를 관리하고 기본적인 은행 거래 기능을 제공합니다.\n",
        "\n",
        "  `BankAccount` 클래스는 다음 정보와 기능을 제공해야 합니다:\n",
        "\n",
        "  - 계좌 번호(account number)\n",
        "  - 소유자 이름(account holder)\n",
        "  - 현재 잔액(balance)\n",
        "\n",
        "- 구현해야 할 메소드\n",
        "\n",
        "  - `__init__`: 객체 생성 시 계좌 번호, 소유자 이름, 초기 잔액을 설정합니다.\n",
        "  - `deposit`: 계좌에 금액을 입금합니다. 입금할 금액을 인자로 받고, 잔액을 업데이트합니다.\n",
        "  - `withdraw`: 계좌에서 금액을 출금합니다. 출금할 금액을 인자로 받고, 잔액이 충분할 경우에만 출금을 허용하고 잔액을 업데이트합니다.\n",
        "  - `get_balance`: 현재 계좌 잔액을 반환합니다.\n",
        "\n",
        "- 실습 결과 예시\n",
        "\n",
        "  다음과 같은 코드를 실행했을 때의 출력 예시입니다:\n",
        "\n",
        "  ```python\n",
        "   my_account = BankAccount(\"123-456-789\", \"김철수\", 100000)\n",
        "    my_account.deposit(50000)\n",
        "    my_account.withdraw(20000)\n",
        "    print(f\"현재 잔액: {my_account.get_balance()}원\")\n",
        "  ```\n",
        "\n",
        "  예상 출력:\n",
        "\n",
        "  ```\n",
        "현재 잔액: 130000원\n",
        "  ```\n",
        "\n",
        "- 요구 사항\n",
        "\n",
        "  - 계좌에서 출금 시도 시 잔액보다 많은 금액을 출금하려고 하면, 출금을 거부하고 경고 메시지를 출력해야 합니다.\n",
        "  - 모든 금액은 정수 또는 실수로 처리될 수 있어야 하며, 화폐 단위로만 입력받습니다.\n",
        "  - 계좌 생성, 입금, 출금 및 잔액 조회 기능을 모두 구현해야 합니다.\n"
      ],
      "metadata": {
        "id": "4bjHJkgXAilE"
      }
    },
    {
      "cell_type": "code",
      "source": [
        "class BankAccount:\n",
        "    def __init__(self, account_number, account_holder, balance_):\n",
        "        if not isinstance(account_number, str) or not isinstance(account_holder, str) or not isinstance(balance_, int) or not balance_ >= 0:\n",
        "            raise ValueError(\"올바른 값을 입력해주세요. 계좌번호와 소유자 이름을 문자열, 현재 잔액은 양의 정수를 입력하세요.\")\n",
        "\n",
        "        self.account_number = account_number\n",
        "        self.account_holder = account_holder\n",
        "        self.balance = balance_\n",
        "        print(f\"{account_holder}님의 계좌 {account_holder}가 개설되었습니다. 초기 잔액: {balance_}원\")\n",
        "\n",
        "    def deposit(self, money):\n",
        "        if not isinstance(money, int):\n",
        "            raise ValueError(\"숫자를 입력해주세요.\")\n",
        "\n",
        "        if money > 0:\n",
        "            self.balance += money\n",
        "            print(f\"{money}원이 입금되었습니다. 현재 잔액: {self.balance}\")\n",
        "        else:\n",
        "            print(\"0원 이상 금액을 입력해주세요\")\n",
        "\n",
        "    def withdraw(self, money):\n",
        "        if not isinstance(money, int):\n",
        "            raise ValueError(\"숫자를 입력해주세요.\")\n",
        "\n",
        "        if money > 0:\n",
        "            if money > self.balance:\n",
        "                print(f\"출금하시는 금액 {money}원이 계좌 잔액 {self.balance}원 보다 많습니다.\")\n",
        "            else:\n",
        "                self.balance -= money\n",
        "                print(f\"{money}원이 출금되었습니다. 남은 잔액: {self.balance}\")\n",
        "        else:\n",
        "            print(\"0원 이상 금액을 입력해주세요\")\n",
        "\n",
        "\n",
        "    def get_balance(self):\n",
        "        return self.balance\n",
        "\n",
        "# 사용 예시\n",
        "if __name__ == \"__main__\":\n",
        "    my_account = BankAccount(\"123-456-789\", \"김철수\", 100000)\n",
        "    my_account.deposit(50000)\n",
        "    my_account.withdraw(20000)\n",
        "    print(f\"현재 잔액: {my_account.get_balance()}원\")\n",
        "    my_account.deposit(-500) # 음수의 금액을 입금 시도할때\n",
        "    my_account.withdraw(300000) # 잔액보다 많이 출금 시도할때\n"
      ],
      "metadata": {
        "colab": {
          "base_uri": "https://localhost:8080/"
        },
        "id": "SnB6A6vcAG3W",
        "outputId": "7b6b586a-3230-49d1-d773-4fe57375a36b"
      },
      "execution_count": null,
      "outputs": [
        {
          "output_type": "stream",
          "name": "stdout",
          "text": [
            "김철수님의 계좌 김철수가 개설되었습니다. 초기 잔액: 100000원\n",
            "50000원이 입금되었습니다. 현재 잔액: 150000\n",
            "20000원이 출금되었습니다. 남은 잔액: 130000\n",
            "현재 잔액: 130000원\n",
            "0원 이상 금액을 입력해주세요\n",
            "출금하시는 금액 300000원이 계좌 잔액 130000원 보다 많습니다.\n"
          ]
        }
      ]
    },
    {
      "cell_type": "markdown",
      "source": [
        "### 문제5 : 직원 관리 클래스"
      ],
      "metadata": {
        "id": "X9jyPU8BCrFg"
      }
    },
    {
      "cell_type": "markdown",
      "source": [
        "\n",
        "- 실습 설명\n",
        "\n",
        "  당신은 회사의 HR 부서에서 일하며, 회사 내 모든 직원의 급여 정보를 관리하는 시스템을 개발할 임무를 맡았습니다. 이 시스템은 직원들의 정보를 저장하고, 전체 직원의 평균 급여를 계산하는 기능을 제공해야 합니다.\n",
        "\n",
        "  `EmployeeManager` 클래스는 다음 기능을 제공해야 합니다:\n",
        "\n",
        "  - **직원 추가**: 새로운 직원의 정보를 시스템에 추가합니다. 직원의 이름과 급여 정보를 저장합니다.\n",
        "  - **급여 평균 계산**: 클래스 메서드를 사용하여 모든 직원의 급여 평균을 계산합니다. 이 메서드는 저장된 모든 직원의 급여 정보를 집계하여 평균 급여를 계산하고 출력합니다.\n",
        "\n",
        "- 구현해야 할 메소드\n",
        "\n",
        "  - `__init__`: 직원의 이름과 급여를 초기화하고, 직원 정보를 클래스 변수에 저장합니다.\n",
        "  - `calculate_average_salary`: 클래스 메서드로 구현되며, `EmployeeManager`에 저장된 모든 직원의 급여 평균을 계산합니다.\n",
        "\n",
        "- 실습 결과 예시\n",
        "\n",
        "  다음과 같은 코드를 실행했을 때의 출력 예시입니다:\n",
        "\n",
        "  ```python\n",
        "  emp1 = EmployeeManager(\"홍길동\", 50000)\n",
        "  emp2 = EmployeeManager(\"김철수\", 60000)\n",
        "\n",
        "  EmployeeManager.calculate_average_salary()\n",
        "  ```\n",
        "\n",
        "- 예상 출력:\n",
        "\n",
        "  ```\n",
        "  전체 직원의 평균 급여: 55000.0\n",
        "  ```\n",
        "\n",
        "- 요구 사항\n",
        "\n",
        "  - 직원 정보는 클래스 변수 `employees`에 저장되어 전체 `EmployeeManager` 인스턴스에서 접근 가능해야 합니다.\n",
        "  - `calculate_average_salary` 메서드는 저장된 모든 직원의 급여를 합산하여 평균을 출력하고, 직원이 없는 경우 0을 반환해야 합니다.\n"
      ],
      "metadata": {
        "id": "QkiTjpMiDSto"
      }
    },
    {
      "cell_type": "code",
      "source": [
        "class EmployeeManager:\n",
        "    employee = []  # 전체 직원 관리\n",
        "\n",
        "    def __init__(self, name, wage_):\n",
        "        if not isinstance(name, str) or not isinstance(wage_, (int, float)) or not wage_ > 0:\n",
        "            raise ValueError(\"올바른 값을 입력해주세요. (이름=문자열, 급여=양수)\")\n",
        "\n",
        "        self.name = name\n",
        "        self.wage = wage_\n",
        "        print(f\"{name} 님이 추가되었습니다. 급여: {wage_}\")\n",
        "        EmployeeManager.employee.append(self)\n",
        "\n",
        "    @classmethod\n",
        "    def calculate_average_salary(cls):   # 평균 급여 계산\n",
        "        if cls.employee == []:\n",
        "            print(\"등록된 직원이 없습니다.\")\n",
        "            return 0\n",
        "\n",
        "        total_wage = 0\n",
        "        for i in cls.employee:\n",
        "            total_wage += i.wage\n",
        "        avg_wage = total_wage / len(cls.employee)\n",
        "        print(f\"전체 직원의 평균 급여: {total_wage / len(cls.employee):.1f}\")\n",
        "\n",
        "# 사용 예시\n",
        "if __name__ == \"__main__\":\n",
        "    emp1 = EmployeeManager(\"홍길동\", 50000)\n",
        "    emp2 = EmployeeManager(\"김철수\", 60000)\n",
        "\n",
        "    EmployeeManager.calculate_average_salary()\n",
        "\n"
      ],
      "metadata": {
        "colab": {
          "base_uri": "https://localhost:8080/"
        },
        "id": "Db8UY-wIA_P7",
        "outputId": "8a5b18ba-7380-477d-d7ec-310f3ccd793a"
      },
      "execution_count": null,
      "outputs": [
        {
          "output_type": "stream",
          "name": "stdout",
          "text": [
            "홍길동 님이 추가되었습니다. 급여: 50000\n",
            "김철수 님이 추가되었습니다. 급여: 60000\n",
            "전체 직원의 평균 급여: 55000.0\n"
          ]
        }
      ]
    },
    {
      "cell_type": "markdown",
      "source": [
        "### 문제6 : 프랜차이즈 레스토랑 관리 클래스"
      ],
      "metadata": {
        "id": "oquKMGEMHow8"
      }
    },
    {
      "cell_type": "markdown",
      "source": [
        "\n",
        "- 실습 설명\n",
        "\n",
        "  당신은 여러 지점을 가진 레스토랑 체인의 IT 팀에서 일하며, 각 지점의 예약을 관리하고 중앙에서 예약 현황을 파악할 수 있는 시스템을 개발할 임무를 맡았습니다. 이 시스템은 각 지점의 예약 상황을 관리하고, 고객의 예약 요청을 효과적으로 처리할 수 있는 기능을 제공해야 합니다.\n",
        "\n",
        "  `ReservationSystem` 클래스는 각 레스토랑 지점의 예약을 관리하며, 다음 기능을 제공해야 합니다:\n",
        "\n",
        "  - **예약 추가**: 고객이 특정 지점, 예약 일시, 인원 수에 대한 예약을 요청하면 시스템에 추가합니다.\n",
        "  - **예약 취소**: 고객이 예약을 취소할 수 있으며, 해당 예약을 시스템에서 제거합니다.\n",
        "  - **예약 조회**: 특정 지점의 모든 예약 상황을 확인할 수 있습니다.\n",
        "  - **예약 집계**: 모든 지점의 예약 수를 합산합니다. 이 메서드는 모든 `ReservationSystem` 인스턴스의 예약 수를 합산하여 보여줍니다.\n",
        "\n",
        "- 구현해야 할 메소드\n",
        "\n",
        "  - `__init__`: 레스토랑 지점의 이름을 초기화하고 예약 리스트를 관리합니다.\n",
        "  - `add_reservation`: 새로운 예약을 추가합니다. 이 메서드는 예약자 이름, 예약 일시, 인원 수를 받아 저장합니다.\n",
        "  - `cancel_reservation`: 지정된 예약을 취소하고 리스트에서 제거합니다.\n",
        "  - `list_reservations`: 현재 지점의 모든 예약 상태를 출력합니다.\n",
        "  - `sum_reservations`: 주어진 `ReservationSystem` 인스턴스 리스트에서 모든 예약 수를 합산합니다.\n",
        "\n",
        "- 실습 결과 예시\n",
        "\n",
        "  ```python\n",
        "  restaurant1 = ReservationSystem(\"강남점\")\n",
        "  restaurant2 = ReservationSystem(\"홍대점\")\n",
        "\n",
        "  restaurant1.add_reservation(\"홍길동\", \"2024-05-20\", 4)\n",
        "  restaurant2.add_reservation(\"김철수\", \"2024-05-21\", 2)\n",
        "\n",
        "  restaurant1.list_reservations()\n",
        "  restaurant2.list_reservations()\n",
        "\n",
        "  total_reservations = ReservationSystem.sum_reservations([restaurant1, restaurant2])\n",
        "  print(f\"전체 레스토랑 예약 수: {total_reservations}\")\n",
        "  ```\n",
        "\n",
        "  - 예상 출력\n",
        "\n",
        "  ```\n",
        "  강남점 예약 목록:\n",
        "  - 홍길동, 2024-05-20, 4명\n",
        "\n",
        "  홍대점 예약 목록:\n",
        "  - 김철수, 2024-05-21, 2명\n",
        "\n",
        "  전체 레스토랑 예약 수: 2\n",
        "  ```\n",
        "\n",
        "- 요구 사항\n",
        "\n",
        "  - 모든 출력 메시지는 한국어로 제공되어야 합니다.\n",
        "  - 각 메서드는 적절한 입력 검증과 예외 처리를 포함해야 합니다.\n",
        "  - `sum_reservations` 클래스 메서드는 모든 지점에서의 예약 수를 효과적으로 합산하여 전체 예약 상태를 중앙에서 확인할 수 있게 합니다.\n",
        "\n"
      ],
      "metadata": {
        "id": "cREwZA4kHDME"
      }
    },
    {
      "cell_type": "code",
      "source": [
        "class ReservationSystem:\n",
        "    def __init__(self, store):\n",
        "        if not isinstance(store, str):\n",
        "            raise ValueError(\"문자열을 입력해 주세요\")\n",
        "\n",
        "        self.store = store\n",
        "        self.reservations = []  # 예약 관리 리스트\n",
        "\n",
        "    def add_reservation(self, name, reserve_date, people):\n",
        "        if not isinstance(name, str) or not isinstance(reserve_date, str):\n",
        "            raise ValueError(\"문자열을 입력해주세요.\")\n",
        "\n",
        "        if not isinstance(people, int) or people < 0:\n",
        "            raise ValueError(\"양의 정수를 입력해주세요.\")\n",
        "\n",
        "        add_reserve = [name, reserve_date, people]\n",
        "        self.reservations.append(add_reserve)\n",
        "        print(f\"{self.store}에 {name}님의 예약이 추가되었습니다. 예약일: {reserve_date}, 인원 수: {people}명\")\n",
        "\n",
        "    def cancel_reservation(self, name, reserve_date, people):\n",
        "        if not isinstance(name, str) or not isinstance(reserve_date, str):\n",
        "            raise ValueError(\"문자열을 입력해주세요.\")\n",
        "\n",
        "        if not isinstance(people, int) or people < 0:\n",
        "            raise ValueError(\"양의 정수를 입력해주세요.\")\n",
        "\n",
        "        find_reserve = [name, reserve_date, people]\n",
        "        if find_reserve in self.reservations:\n",
        "            for i in range(len(self.reservations)):\n",
        "                if find_reserve == self.reservations[i]:\n",
        "                    del self.reservations[i]\n",
        "                    print(f\"{self.store}에 {name}님의 예약이 취소되었습니다. 예약일: {reserve_date}, 인원 수: {people}명 \")\n",
        "                    break\n",
        "        else:\n",
        "            print(\"일치하는 예약 정보가 없습니다.\")\n",
        "\n",
        "    def list_reservations(self):\n",
        "        if self.reservations == []:\n",
        "            print(\"예약이 없습니다.\")\n",
        "            return 0\n",
        "\n",
        "        print(f\"{self.store} 예약 목록: \")\n",
        "        for [name, reserve_date, people] in self.reservations:\n",
        "            print(f\"- {name}, {reserve_date}, {people}명\")\n",
        "\n",
        "\n",
        "    @classmethod\n",
        "    def sum_reservations(cls, reserve_info):\n",
        "        total_reserve = [len(info.reservations) for info in reserve_info]\n",
        "        if sum(total_reserve) == 0:\n",
        "            return \"예약이 없습니다.\"\n",
        "\n",
        "        return sum(total_reserve)\n",
        "\n",
        "# 사용 예시\n",
        "if __name__ == \"__main__\":\n",
        "    restaurant1 = ReservationSystem(\"강남점\")\n",
        "    restaurant2 = ReservationSystem(\"홍대점\")\n",
        "\n",
        "    restaurant1.add_reservation(\"홍길동\", \"2024-05-20\", 4)\n",
        "    restaurant2.add_reservation(\"김철수\", \"2024-05-21\", 2)\n",
        "\n",
        "    print(\"\\n\")\n",
        "    restaurant1.list_reservations()\n",
        "    restaurant2.list_reservations()\n",
        "\n",
        "    print(\"\\n\")\n",
        "    total_reservations = ReservationSystem.sum_reservations([restaurant1, restaurant2])\n",
        "    print(f\"전체 레스토랑 예약 수: {total_reservations}\")\n"
      ],
      "metadata": {
        "colab": {
          "base_uri": "https://localhost:8080/"
        },
        "id": "lFuLXpAJINl8",
        "outputId": "695c7ef1-2290-41c7-ad53-1a7a45e7e340"
      },
      "execution_count": null,
      "outputs": [
        {
          "output_type": "stream",
          "name": "stdout",
          "text": [
            "강남점에 홍길동님의 예약이 추가되었습니다. 예약일: 2024-05-20, 인원 수: 4명\n",
            "홍대점에 김철수님의 예약이 추가되었습니다. 예약일: 2024-05-21, 인원 수: 2명\n",
            "\n",
            "\n",
            "강남점 예약 목록: \n",
            "- 홍길동, 2024-05-20, 4명\n",
            "홍대점 예약 목록: \n",
            "- 김철수, 2024-05-21, 2명\n",
            "\n",
            "\n",
            "전체 레스토랑 예약 수: 2\n"
          ]
        }
      ]
    },
    {
      "cell_type": "code",
      "source": [
        "# 추가 코드 테스트\n",
        "restaurant1.add_reservation(\"가나다\", \"2024-05-20\", 4)   # 추가등록\n",
        "restaurant1.add_reservation(\"강아지\", \"2025-01-20\", 6)   # 추가등록\n",
        "\n",
        "print(\"\\n\")\n",
        "restaurant1.list_reservations()\n",
        "\n",
        "restaurant1.cancel_reservation(\"강아지\", \"2025-01-25\", 8)  # 해당 예약정보가 없음\n",
        "restaurant1.cancel_reservation(\"강아지\", \"2025-01-20\", 6)  # 예약취소\n",
        "\n",
        "print(\"\\n\")\n",
        "restaurant1.list_reservations()\n",
        "restaurant2.list_reservations()\n",
        "\n",
        "\n",
        "print(\"\\n\")\n",
        "total_reservations = ReservationSystem.sum_reservations([restaurant1, restaurant2])\n",
        "print(f\"전체 레스토랑 예약 수: {total_reservations}\")\n"
      ],
      "metadata": {
        "colab": {
          "base_uri": "https://localhost:8080/"
        },
        "id": "rmGBkpHjrEBv",
        "outputId": "b0a87631-a55f-436a-e772-18832ac0220c"
      },
      "execution_count": null,
      "outputs": [
        {
          "output_type": "stream",
          "name": "stdout",
          "text": [
            "강남점에 가나다님의 예약이 추가되었습니다. 예약일: 2024-05-20, 인원 수: 4명\n",
            "강남점에 강아지님의 예약이 추가되었습니다. 예약일: 2025-01-20, 인원 수: 6명\n",
            "\n",
            "\n",
            "강남점 예약 목록: \n",
            "- 홍길동, 2024-05-20, 4명\n",
            "- 가나다, 2024-05-20, 4명\n",
            "- 강아지, 2025-01-20, 6명\n",
            "일치하는 예약 정보가 없습니다.\n",
            "강남점에 강아지님의 예약이 취소되었습니다. 예약일: 2025-01-20, 인원 수: 6명 \n",
            "\n",
            "\n",
            "강남점 예약 목록: \n",
            "- 홍길동, 2024-05-20, 4명\n",
            "- 가나다, 2024-05-20, 4명\n",
            "홍대점 예약 목록: \n",
            "- 김철수, 2024-05-21, 2명\n",
            "\n",
            "\n",
            "전체 레스토랑 예약 수: 3\n"
          ]
        }
      ]
    },
    {
      "cell_type": "markdown",
      "source": [
        "## 심화"
      ],
      "metadata": {
        "id": "-k0QZr6LGUhi"
      }
    },
    {
      "cell_type": "markdown",
      "source": [
        "### 문제7 : 도서관 관리 시스템"
      ],
      "metadata": {
        "id": "QbiBS3BPR4oC"
      }
    },
    {
      "cell_type": "markdown",
      "source": [
        "\n",
        "- 실습 설명\n",
        "\n",
        "  당신은 지역 도서관에서 시스템 개발자로 일하고 있으며, 도서관의 도서, 회원, 대여 정보를 효과적으로 관리하는 시스템을 개발할 임무를 맡았습니다. `LibraryManagement` 클래스와 여러 하위 클래스를 구현하여, 도서의 추가, 삭제, 검색, 대여 및 반납 기능을 포괄적으로 다루어야 합니다.\n",
        "\n",
        "- 시스템 구성 요소\n",
        "\n",
        "  - **도서(Books)**: 도서 정보를 저장합니다. 각 도서는 제목, 저자, 출판년도, ISBN 등의 정보를 포함해야 합니다.\n",
        "  - **회원(Members)**: 회원 정보를 관리합니다. 각 회원은 이름, 회원번호, 대여 중인 도서 목록 등의 정보를 갖습니다.\n",
        "  - **대여 관리(Rentals)**: 도서 대여 및 반납 정보를 처리합니다. 대여 시 회원 ID와 도서 ISBN을 연결하고, 대여일 및 반납일을 기록합니다.\n",
        "\n",
        "- 구현해야 할 메소드 및 클래스\n",
        "\n",
        "  1. **LibraryManagement**:\n",
        "    - 도서, 회원, 대여 정보를 관리하는 메소드와 데이터 구조를 포함합니다.\n",
        "    - 도서 추가, 삭제, 검색 메소드를 구현합니다.\n",
        "    - 회원 등록, 정보 조회 메소드를 구현합니다.\n",
        "    - 대여 및 반납 프로세스를 관리하는 메소드를 구현합니다.\n",
        "\n",
        "  2. **Book Class**:\n",
        "    - 도서 정보(제목, 저자, 출판년도, ISBN)를 저장하는 클래스입니다.\n",
        "    - 각 도서 객체는 고유 정보를 관리합니다.\n",
        "\n",
        "  3. **Member Class**:\n",
        "    - 회원 정보(이름, 회원번호, 대여 중인 도서 목록)를 저장하는 클래스입니다.\n",
        "    - 회원별 대여 기록을 관리합니다.\n",
        "\n",
        "  4. **Rental Class**:\n",
        "    - 대여 정보(회원 ID, 도서 ISBN, 대여일, 반납일)를 저장하는 클래스입니다.\n",
        "    - 대여 및 반납 프로세스를 처리합니다.\n",
        "\n",
        "- 실습 결과 예시\n",
        "\n",
        "  ```python\n",
        "  # 도서관 관리 시스템 초기화\n",
        "  library_system = LibraryManagement()\n",
        "\n",
        "  # 도서 추가\n",
        "  library_system.add_book(\"1984\", \"조지 오웰\", 1949, \"978-0451524935\")\n",
        "  library_system.add_book(\"앵무새 죽이기\", \"하퍼 리\", 1960, \"978-0446310789\")\n",
        "\n",
        "  # 회원 등록\n",
        "  library_system.add_member(\"홍길동\")\n",
        "\n",
        "  # 도서 대여\n",
        "  library_system.rent_book(\"978-0451524935\", \"홍길동\")\n",
        "\n",
        "  # 도서 반납\n",
        "  library_system.return_book(\"978-0451524935\", \"홍길동\")\n",
        "\n",
        "  # 도서 및 회원 정보 출력\n",
        "  library_system.print_books()\n",
        "  library_system.print_members()\n",
        "  ```\n",
        "\n",
        "- 요구 사항\n",
        "\n",
        "  - 모든 클래스 및 메소드는 적절한 입력 검증과 예외 처리를 포함해야 합니다.\n",
        "  - 시스템은 사용자의 행동에 따라 적절한 피드백을 제공해야 합니다 (예: 도서가 없을 때, 회원 정보가 없을 때).\n"
      ],
      "metadata": {
        "id": "5-v3JeonSigL"
      }
    },
    {
      "cell_type": "code",
      "source": [
        "# 구성\n",
        "# 1. 도서 정보(제목, 저자, 출판년도, ISBN)  #  ISBN을 고유번호로 사용\n",
        "# 2. 회원 정보(이름, 대여 목록)\n",
        "# 3. 대여 정보(member, book, 대여일, 반납일=None)\n",
        "#  - 도서정보와 회원정보를 각 객체에서 검증한뒤 대여정보에 반영\n",
        "#  - 대여일을 설정하여 대여 정보 데이터 생성\n",
        "#  - 반납일은 초기값 None 또는 대여 메소드에서 None표현 (여기서는 초기값에 설정)\n",
        "# 4. 도서, 회원, 대여 데이터를 저장하고 관련 메소드(동작) 구현\n",
        "#  - 도서, 회원, 대여 정보를(클래스) 저장(객체)하는 리스트\n",
        "\n",
        "# 필요 시스템(사용 예시 매개변수 기준)\n",
        "# 1. 도서관련\n",
        "#  - 도서 등록과 삭제(제목, 저자, 출판년도, ISBN)\n",
        "#  - 도서 조회()\n",
        "# 2. 회원관련 : 회원 등록과 삭제(이름), 회원 조회()\n",
        "# 3. 대여관련 : 도서 대여와 반납(ISBN, 이름)\n",
        "\n",
        "# 주요표현 : next(제너레이터표현식, 기본값) 함수 사용\n",
        "# (객체 for 객체 in 도서, 회원, 대여 정보(클래스) if 객체의 속성 == 메소드 매개변수)\n",
        "# = (객체\n",
        "#    for 객체 in 도서, 회원, 대여 정보(클래스)\n",
        "#    if 객체의 속성 == 메소드 매개변수)\n",
        "#  - 도서, 회원, 대여 정보를(클래스) 저장한 (객체)리스트를 하나씩 살펴보고\n",
        "#  - 특정 객체의 속성이 메소드 매개변수와 일치하면\n",
        "#  - 만족하는 첫 번째 객체를 반환한다. 없으면 기본값 반환\n",
        "\n",
        "from datetime import datetime\n",
        "\n",
        "class Book:  # 도서 정보(제목, 저자, 출판년도, ISBN)\n",
        "    def __init__(self, title, author, year, isbn):\n",
        "        if not isinstance(title, str) or not isinstance(author, str) or not isinstance(isbn, str):\n",
        "            raise ValueError(\"올바른 값을 입력해 주세요.\")\n",
        "\n",
        "        if not isinstance(year, int) or year <= 0:\n",
        "            raise ValueError(\"양의 정수를 입력해 주세요.\")\n",
        "\n",
        "        self.title = title\n",
        "        self.author = author\n",
        "        self.year = year\n",
        "        self.isbn = isbn\n",
        "\n",
        "class Member:  # 회원 정보(이름, 대여목록)\n",
        "    def __init__(self, name):\n",
        "        if not isinstance(name, str):\n",
        "            raise ValueError(\"문자를 입력해 주세요.\")\n",
        "\n",
        "        self.name = name\n",
        "        self.rental_list = []   # 회원별 대여 기록\n",
        "\n",
        "class Rental:  # 대여 정보(id, name, isbn, 대여일, 반납일=None)\n",
        "    def __init__(self, member, book, rental_date, return_date=None):\n",
        "        self.member = member  #  Member 객체 리스트\n",
        "        self.book = book  # Book 객체 리스트\n",
        "        self.rental_date = rental_date\n",
        "        self.return_date = return_date\n",
        "\n",
        "class LibraryManagement:  # 도서, 회원, 대여 정보를 저장 및 동작 구현\n",
        "    def __init__(self):\n",
        "        self.books = []  # 도서 정보를 저장하는 Book 객체 리스트\n",
        "        self.members = []  # 회원 정보를 저장하는 Member 객체 리스트\n",
        "        self.rental = []  # 대여 정보를 저장하는 Rental 객체 리스트\n",
        "\n",
        "    def add_book(self, title, author, year, isbn):  # 도서 등록\n",
        "        # 도서 정보 Book 객체 리스트 중에 매개변수 isbn과 일치하는 속성을 가진 첫번째 객체를 반환\n",
        "        find_book = next((book for book in self.books if book.isbn == isbn), None)\n",
        "\n",
        "        if find_book == None:\n",
        "            new_book = Book(title, author, year, isbn)\n",
        "            self.books.append(new_book)  #  객체형식으로 도서정보 리스트 추가\n",
        "            print(f\"{title} (저자: {author}, 출판년도: {year}) 도서가 추가되었습니다.\")\n",
        "        else:\n",
        "            print(\"이미 등록된 도서입니다.\")\n",
        "\n",
        "    def delete_book(self, title, author, year, isbn):  # 도서 삭제\n",
        "        # 도서 정보 Book 객체 리스트 중에 매개변수 isbn과 일치하는 속성을 가진 첫번째 객체를 반환\n",
        "        del_book = next((book for book in self.books if book.isbn == isbn), None)\n",
        "        if del_book:\n",
        "            self.books.remove(del_book)\n",
        "            print(f\"{title} (저자: {author}, 출판년도: {year}) 도서가 삭제되었습니다.\")\n",
        "        else:\n",
        "            print(\"해당 도서가 없습니다.\")\n",
        "\n",
        "    def print_books(self):  # 도서 목록 출력 : 도서정보\n",
        "        if self.books:\n",
        "            print(\"도서 목록:\")\n",
        "            for book in self.books:\n",
        "                print(f\"- {book.title} (저자: {book.author}, 출판년도: {book.year})\")\n",
        "        else:\n",
        "            print(\"등록된 도서가 없습니다.\")\n",
        "\n",
        "    def add_member(self, name):   # 회원 등록\n",
        "        # 회원 정보 Member 객체 리스트 중에 매개변수 name과 일치하는 속성을 가진 첫번째 객체를 반환\n",
        "        find_member = next((member for member in self.members if member.name == name), None)\n",
        "\n",
        "        if find_member == None:\n",
        "            new_member = Member(name)\n",
        "            self.members.append(new_member)  #  객체형식으로 회원정보 리스트 추가\n",
        "            print(f\"회원 {name}님이 등록되었습니다.\")\n",
        "        else:\n",
        "            print(\"이미 등록된 회원입니다.\")\n",
        "\n",
        "    def delete_member(self, name):  # 회원 삭제\n",
        "        # 회원 정보 Member 객체 리스트 중에 매개변수 name과 일치하는 속성을 가진 첫번째 객체를 반환\n",
        "        del_member = next((member for member in self.members if member.name == name), None)\n",
        "        if del_member:\n",
        "            self.members.remove(del_member)\n",
        "            print(f\"회원 {name}님이 삭제되었습니다.\")\n",
        "        else:\n",
        "            print(\"해당 회원이 없습니다.\")\n",
        "\n",
        "    def print_members(self):  # 회원 목록 출력 : 도서정보 + 회원정보\n",
        "        if self.members:\n",
        "            print(\"회원 목록:\")\n",
        "            for member in self.members:\n",
        "                # 대여 중인 도서 목록\n",
        "                rental_title = []\n",
        "                if member.rental_list:\n",
        "                    for book in member.rental_list:\n",
        "                        rental_title.append(book.title)\n",
        "                    print(f\"- {member.name} (대여 중인 도서: {', '.join(rental_title)})\")\n",
        "                else:  # 대여 중인 도서가 없을때\n",
        "                    print(f\"- {member.name} (대여 중인 도서: 없음)\")\n",
        "        else:\n",
        "            print(\"등록된 회원이 없습니다.\")\n",
        "\n",
        "    def rent_book(self, isbn, name):  # 도서 대여 : 도서정보와 회원정보를 대여정보에 추가\n",
        "        # 매개변수 isbn과 name을 속성으로 가진 객체를 각 도서정보와 회원정보 리스트에서 확인\n",
        "\n",
        "        # 도서 정보 Book 객체 리스트 중에 매개변수 isbn과 일치하는 속성을 가진 첫번째 객체를 반환\n",
        "        find_book = next((book for book in self.books if book.isbn == isbn), None)\n",
        "\n",
        "        # 회원 정보 Member 객체 리스트 중에 매개변수 name과 일치하는 속성을 가진 첫번째 객체를 반환\n",
        "        find_member = next((member for member in self.members if member.name == name), None)\n",
        "\n",
        "        if not find_book:\n",
        "            print(\"등록된 도서가 아닙니다.\")\n",
        "            return\n",
        "\n",
        "        if not find_member:\n",
        "            print(\"등록된 회원이 아닙니다.\")\n",
        "            return\n",
        "\n",
        "        # 대여 정보 Rental 객체 리스트 중에 매개변수 isbn과 일치하고 대여일이 있는(None이 아닌) 속성을 가진 첫번째 객체를 반환\n",
        "        rent_book_ = next((rent for rent in self.rental if rent.book.isbn == isbn and rent.rental_date != None), None)\n",
        "\n",
        "        if rent_book_ == None:  # 대여정보가 없으면\n",
        "            rental_date = datetime.now().date()  # 대여일\n",
        "            rental_book = Rental(find_member, find_book, rental_date)\n",
        "            self.rental.append(rental_book)  # 객체형식으로 대여정보 리스트 추가\n",
        "            find_member.rental_list.append(find_book)  # 회원정보에 도서대여 리스트 추가\n",
        "            print(f\"{name} 회원님이 {find_book.title} 도서를 대여하였습니다.\")\n",
        "        else:\n",
        "            print(\"이미 대여중인 도서입니다.\")\n",
        "\n",
        "    def return_book(self, isbn, name): # 도서 반납 : 대여정보, 회원정보\n",
        "        # 대여 정보 Rental 객체 리스트 중에 매개변수 isbn과 name이 일치하는 속성을 가진 첫번째 객체를 반환\n",
        "        return_book_ = next((rent for rent in self.rental if rent.book.isbn == isbn and rent.member.name == name), None)\n",
        "\n",
        "        if not return_book_:\n",
        "            print(\"해당하는 대여정보가 없습니다.\")\n",
        "            return\n",
        "\n",
        "        if return_book_.rental_date != None:  # 해당도서가 대여중이면\n",
        "            self.rental.remove(return_book_)\n",
        "            print(f\"{name} 회원님이 {return_book_.book.title} 도서를 반납하였습니다.\")\n",
        "        else:\n",
        "            print(f\"대여된 도서가 아닙니다.\")\n",
        "\n",
        "\n",
        "# 사용 예시\n",
        "library = LibraryManagement()\n",
        "library.add_book(\"1984\", \"조지 오웰\", 1949, \"978-0451524935\")\n",
        "library.add_book(\"앵무새 죽이기\", \"하퍼 리\", 1960, \"978-0446310789\")\n",
        "library.add_member(\"홍길동\")\n",
        "\n",
        "print(\"\\n\")\n",
        "library.rent_book(\"978-0451524935\", \"홍길동\")\n",
        "print(\"\\n\")\n",
        "library.print_books()\n",
        "print(\"\\n\")\n",
        "library.print_members()\n",
        "print(\"\\n\")\n",
        "library.return_book(\"978-0451524935\", \"홍길동\")\n",
        "print(\"\\n\")\n",
        "library.print_members()\n",
        "print(\"\\n\")"
      ],
      "metadata": {
        "colab": {
          "base_uri": "https://localhost:8080/"
        },
        "id": "ktFZJuvPR4XO",
        "outputId": "3cbbab23-3c1d-40ee-c3d5-dbfe61af4948"
      },
      "execution_count": null,
      "outputs": [
        {
          "output_type": "stream",
          "name": "stdout",
          "text": [
            "1984 (저자: 조지 오웰, 출판년도: 1949) 도서가 추가되었습니다.\n",
            "앵무새 죽이기 (저자: 하퍼 리, 출판년도: 1960) 도서가 추가되었습니다.\n",
            "회원 홍길동님이 등록되었습니다.\n",
            "\n",
            "\n",
            "홍길동 회원님이 1984 도서를 대여하였습니다.\n",
            "\n",
            "\n",
            "도서 목록:\n",
            "- 1984 (저자: 조지 오웰, 출판년도: 1949)\n",
            "- 앵무새 죽이기 (저자: 하퍼 리, 출판년도: 1960)\n",
            "\n",
            "\n",
            "회원 목록:\n",
            "- 홍길동 (대여 중인 도서: 1984)\n",
            "\n",
            "\n",
            "홍길동 회원님이 1984 도서를 반납하였습니다.\n",
            "\n",
            "\n",
            "회원 목록:\n",
            "- 홍길동 (대여 중인 도서: 1984)\n",
            "\n",
            "\n"
          ]
        }
      ]
    },
    {
      "cell_type": "code",
      "source": [
        "# 추가 코드 테스트\n",
        "# 도서관 관리 시스템 초기화\n",
        "library_system = LibraryManagement()\n",
        "print(\"\\n\")\n",
        "\n",
        "# 도서 추가\n",
        "\n",
        "library_system.add_book(\"1984\", \"조지 오웰\", 1949, \"978-0451524935\")\n",
        "library_system.add_book(\"앵무새 죽이기\", \"하퍼 리\", 1960, \"978-0446310789\")\n",
        "library_system.add_book(\"바닐라\", \"아이스 킴\", 1995, \"978-0446310717\")\n",
        "library_system.add_book(\"바닐라\", \"아이스 킴\", 1995, \"978-0446310717\")\n",
        "library_system.add_book(\"바닐라\", \"아이스 킴\", 1995, \"978-0446310717\")\n",
        "\n",
        "\n",
        "print(\"\\n\")\n",
        "\n",
        "# 도서 삭제\n",
        "library_system.delete_book(\"앵무새 죽이기\", \"하퍼 리\", 1960, \"978-0446310789\")\n",
        "library_system.delete_book(\"앵무새 죽이기\", \"하퍼 리\", 1960, \"978-0446310789\")\n",
        "\n",
        "print(\"\\n\")\n",
        "\n",
        "# 회원 등록\n",
        "library_system.add_member(\"홍길동\")\n",
        "library_system.add_member(\"홍길이\")\n",
        "library_system.add_member(\"홍길삼\")\n",
        "print(\"\\n\")\n",
        "\n",
        "# 회원 삭제\n",
        "library_system.delete_member(\"홍길이\")\n",
        "library_system.delete_member(\"홍길이\")\n",
        "print(\"\\n\")\n",
        "\n",
        "# 회원 등록\n",
        "library_system.add_member(\"홍길사\")\n",
        "print(\"\\n\")\n",
        "\n",
        "# 도서 대여\n",
        "library_system.rent_book(\"978-0451524935\", \"홍길동\")\n",
        "library_system.rent_book(\"978-0446310717\", \"홍길동\")\n",
        "library_system.rent_book(\"978-0446310717\", \"홍길동\")\n",
        "library_system.rent_book(\"978-0446310717\", \"홍길동\")\n",
        "\n",
        "\n",
        "print(\"\\n\")\n",
        "\n",
        "# 도서 반납\n",
        "library_system.return_book(\"978-0451524935\", \"홍길동\")\n",
        "library_system.return_book(\"978-0451524935\", \"홍길동\")\n",
        "\n",
        "print(\"\\n\")\n",
        "\n",
        "# 도서 및 회원 정보 출력\n",
        "library_system.print_books()\n",
        "library_system.print_members()\n"
      ],
      "metadata": {
        "colab": {
          "base_uri": "https://localhost:8080/"
        },
        "id": "7x8Q_m2BZEDE",
        "outputId": "043a6256-dcff-478d-c74f-90a2d4341f33"
      },
      "execution_count": null,
      "outputs": [
        {
          "output_type": "stream",
          "name": "stdout",
          "text": [
            "\n",
            "\n",
            "1984 (저자: 조지 오웰, 출판년도: 1949) 도서가 추가되었습니다.\n",
            "앵무새 죽이기 (저자: 하퍼 리, 출판년도: 1960) 도서가 추가되었습니다.\n",
            "바닐라 (저자: 아이스 킴, 출판년도: 1995) 도서가 추가되었습니다.\n",
            "이미 등록된 도서입니다.\n",
            "이미 등록된 도서입니다.\n",
            "\n",
            "\n",
            "앵무새 죽이기 (저자: 하퍼 리, 출판년도: 1960) 도서가 삭제되었습니다.\n",
            "해당 도서가 없습니다.\n",
            "\n",
            "\n",
            "회원 홍길동님이 등록되었습니다.\n",
            "회원 홍길이님이 등록되었습니다.\n",
            "회원 홍길삼님이 등록되었습니다.\n",
            "\n",
            "\n",
            "회원 홍길이님이 삭제되었습니다.\n",
            "해당 회원이 없습니다.\n",
            "\n",
            "\n",
            "회원 홍길사님이 등록되었습니다.\n",
            "\n",
            "\n",
            "홍길동 회원님이 1984 도서를 대여하였습니다.\n",
            "홍길동 회원님이 바닐라 도서를 대여하였습니다.\n",
            "이미 대여중인 도서입니다.\n",
            "이미 대여중인 도서입니다.\n",
            "\n",
            "\n",
            "홍길동 회원님이 1984 도서를 반납하였습니다.\n",
            "해당하는 대여정보가 없습니다.\n",
            "\n",
            "\n",
            "도서 목록:\n",
            "- 1984 (저자: 조지 오웰, 출판년도: 1949)\n",
            "- 바닐라 (저자: 아이스 킴, 출판년도: 1995)\n",
            "회원 목록:\n",
            "- 홍길동 (대여 중인 도서: 1984, 바닐라)\n",
            "- 홍길삼 (대여 중인 도서: 없음)\n",
            "- 홍길사 (대여 중인 도서: 없음)\n"
          ]
        }
      ]
    },
    {
      "cell_type": "markdown",
      "source": [
        "### 단계별 가이드\n",
        "\n",
        "심화문제를 풀고 싶으나 어디서부터 시작해야할 지 막막하다면, 단계별 개발 가이드를 참고해보세요."
      ],
      "metadata": {
        "id": "2nVeWBAwTDM3"
      }
    },
    {
      "cell_type": "code",
      "source": [
        "# #### 1단계: 기본 클래스 정의\n",
        "\n",
        "# - **목표**: 도서, 회원, 대여 정보를 저장할 기본 클래스를 생성합니다.\n",
        "\n",
        "# - **작업**:\n",
        "#   1. `Book` 클래스 생성: `__init__` 메소드에는 `title`, `author`, `publication_year`, `isbn` 파라미터를 포함시킵니다.\n",
        "#   2. `Member` 클래스 생성: `__init__` 메소드에는 `name` 파라미터를 포함시키고, 대여 중인 도서 목록을 관리할 리스트를 초기화합니다.\n",
        "#   3. `Rental` 클래스 생성: `__init__` 메소드에는 `book`, `member`, `rental_date`, `return_date` 파라미터를 포함시킵니다."
      ],
      "metadata": {
        "id": "JKxWhivWUX7N"
      },
      "execution_count": null,
      "outputs": []
    },
    {
      "cell_type": "code",
      "source": [
        "#### 2단계: 관리 시스템 클래스 구현\n",
        "\n",
        "# - **목표**: 도서, 회원, 대여 정보를 관리하는 메소드를 포함하는 `LibraryManagement` 클래스를 구현합니다.\n",
        "\n",
        "# - **작업**:\n",
        "#   1. `LibraryManagement` 클래스에 필요한 인스턴스 변수 초기화: 도서 목록, 회원 목록, 대여 목록.\n",
        "#   2. 도서 추가 메소드(`add_book`) 구현.\n",
        "#   3. 회원 등록 메소드(`add_member`) 구현.\n",
        "#   4. 도서 대여 메소드(`rent_book`) 구현.\n",
        "#   5. 도서 반납 메소드(`return_book`) 구현."
      ],
      "metadata": {
        "id": "yueZ1mvWUewZ"
      },
      "execution_count": null,
      "outputs": []
    },
    {
      "cell_type": "code",
      "source": [
        "#### 3단계: 도서 및 회원 정보 조회 기능 추가\n",
        "\n",
        "# - **목표**: 도서 및 회원 정보를 조회하고 출력하는 기능을 구현합니다.\n",
        "\n",
        "# - **작업**:\n",
        "#   1. 도서 목록 출력 메소드(`print_books`) 구현.\n",
        "#   2. 회원 목록 출력 메소드(`print_members`) 구현."
      ],
      "metadata": {
        "id": "4kb0s5mZUlL3"
      },
      "execution_count": null,
      "outputs": []
    },
    {
      "cell_type": "code",
      "source": [
        "#### 4단계: 테스트 및 디버깅\n",
        "\n",
        "# - **목표**: 전체 시스템을 테스트하여 오류를 찾고 수정합니다.\n",
        "\n",
        "# - **작업**:\n",
        "#   1. 각 클래스와 메소드의 기능을 개별적으로 테스트합니다.\n",
        "#   2. 통합 테스트를 수행하여 시스템의 전체적인 작동을 확인합니다.\n",
        "#   3. 오류 메시지와 예외 처리를 확인하고 필요에 따라 수정합니다.\n"
      ],
      "metadata": {
        "id": "RC0nyFRGUovm"
      },
      "execution_count": null,
      "outputs": []
    },
    {
      "cell_type": "code",
      "source": [],
      "metadata": {
        "id": "aM5bRFS9UTol"
      },
      "execution_count": null,
      "outputs": []
    }
  ]
}